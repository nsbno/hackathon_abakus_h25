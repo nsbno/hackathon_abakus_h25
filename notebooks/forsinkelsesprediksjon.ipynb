{
 "cells": [
  {
   "cell_type": "markdown",
   "id": "50b7092d",
   "metadata": {},
   "source": [
    "# 🚆 Hackathon: Prediksjon av Togforsinkelser\n",
    "Velkommen til dette hackathon-caset! Målet er å bygge en modell som kan predikere forsinkelser i togtrafikken. Vi gir deg et datasett og forslag til steg for å komme i gang. "
   ]
  },
  {
   "cell_type": "markdown",
   "id": "a44e1822",
   "metadata": {},
   "source": [
    "## 1. 📊 EDA (Utforskende Dataanalyse)\n",
    "I denne seksjonen skal du bli kjent med datasettet. Målet er å forstå hvilke variabler som finnes, hvordan dataene er fordelt, og om det finnes åpenbare feil eller mangler.\n",
    "\n",
    "**Eksempelsteg:**\n",
    "* Skriv ut de første radene i datasettet (df.head())\n",
    "\n",
    "* Undersøk datatyper og kolonnenavn (df.info())\n",
    "\n",
    "* Sjekk for manglende verdier og outliers\n",
    "\n",
    "* Visualiser fordelingen av viktige variabler (f.eks. histogrammer, boksplott)\n",
    "\n",
    "* Se på sammenhenger mellom variabler (f.eks. korrelasjonsmatrise)\n"
   ]
  },
  {
   "cell_type": "markdown",
   "id": "88f48a80",
   "metadata": {},
   "source": [
    "#### Utregning av retning \n",
    "Datasettet inneholder ingen informasjon om hvilken retning toget kjører i. Dette kan regnes ut ved bruk av tognummer på denne måten\n",
    "**Formel for `direction` basert på `TRAIN_ID`:**\n",
    "\n",
    "| Betingelse                                                                 | Retning                  |\n",
    "|----------------------------------------------------------------------------|--------------------------|\n",
    "| 2100–2199 og oddetall                                                      | Lillestrøm–Asker         |\n",
    "| 2100–2199 og partall                                                       | Asker–Lillestrøm         |\n",
    "| 2204                                                                       | Asker–Lillestrøm         |\n",
    "| 2200–2299 og oddetall (unntatt 2281)                                       | Lillestrøm–Spikkestad    |\n",
    "| 2200–2299 og partall (unntatt 2204)                                        | Spikkestad–Lillestrøm    |\n",
    "| 2281                                                                     | Night train              |\n"
   ]
  },
  {
   "cell_type": "code",
   "execution_count": 5,
   "id": "e11e78f1",
   "metadata": {},
   "outputs": [
    {
     "name": "stderr",
     "output_type": "stream",
     "text": [
      "/var/folders/d8/_h8jxb_x4d9_m47vflzp00mm0000gn/T/ipykernel_7794/3610605793.py:6: DtypeWarning: Columns (1) have mixed types. Specify dtype option on import or set low_memory=False.\n",
      "  df = pd.read_csv('rask_testdata.csv', sep=';') # Endre filnavn og delimiter ved behov\n"
     ]
    },
    {
     "data": {
      "application/vnd.microsoft.datawrangler.viewer.v0+json": {
       "columns": [
        {
         "name": "index",
         "rawType": "int64",
         "type": "integer"
        },
        {
         "name": "NOMINAL_DATE",
         "rawType": "object",
         "type": "string"
        },
        {
         "name": "TRAIN_ID",
         "rawType": "object",
         "type": "string"
        },
        {
         "name": "CONTRACTOR_DESC",
         "rawType": "object",
         "type": "string"
        },
        {
         "name": "MAIN_LINE_ID",
         "rawType": "object",
         "type": "string"
        },
        {
         "name": "STREKNING",
         "rawType": "object",
         "type": "string"
        },
        {
         "name": "STATION_AFFECTED",
         "rawType": "object",
         "type": "string"
        },
        {
         "name": "STATION_ID",
         "rawType": "object",
         "type": "string"
        },
        {
         "name": "PLANNED_DEPARTURE_TIME",
         "rawType": "object",
         "type": "string"
        },
        {
         "name": "ACTUAL_DEPARTURE_TIME",
         "rawType": "object",
         "type": "string"
        },
        {
         "name": "PLANNED_ARRIVAL_TIME",
         "rawType": "object",
         "type": "string"
        },
        {
         "name": "ACTUAL_ARRIVAL_TIME",
         "rawType": "object",
         "type": "string"
        },
        {
         "name": "DEVIATION_REASON_CODE",
         "rawType": "int64",
         "type": "integer"
        },
        {
         "name": "CODE_DESCRIPTION",
         "rawType": "object",
         "type": "string"
        },
        {
         "name": "FURTHER_CODE_DESCRIPTION",
         "rawType": "object",
         "type": "string"
        },
        {
         "name": "LEVEL2_DESC",
         "rawType": "object",
         "type": "string"
        },
        {
         "name": "LEVEL3_DESC",
         "rawType": "object",
         "type": "string"
        },
        {
         "name": "RESPONSIBLE",
         "rawType": "object",
         "type": "string"
        },
        {
         "name": "RESPONSIBLE_CODE",
         "rawType": "object",
         "type": "string"
        },
        {
         "name": "REGISTERED_EXTRA_DELAY_SEC/60",
         "rawType": "float64",
         "type": "float"
        },
        {
         "name": "DELAY_SEC",
         "rawType": "float64",
         "type": "float"
        },
        {
         "name": "STOP_TYPE",
         "rawType": "object",
         "type": "string"
        },
        {
         "name": "OPERATOR_NAME",
         "rawType": "object",
         "type": "string"
        },
        {
         "name": "CONTRACTOR_ID",
         "rawType": "object",
         "type": "string"
        },
        {
         "name": "TRAIN_CATEGORY_NAME",
         "rawType": "object",
         "type": "string"
        }
       ],
       "ref": "a38d84d8-502e-4a8e-a609-4b75b4998dab",
       "rows": [
        [
         "0",
         "2018-12-01T00:00:00.000Z",
         "2226",
         "NSB Øst",
         "L1",
         "Spikkestad - Lillestrøm",
         "Stabekk",
         "STB",
         "2018-12-01T10:56:00.000Z",
         "2018-12-01T11:02:23.000Z",
         "2018-12-01T10:55:00.000Z",
         "2018-12-01T11:00:52.000Z",
         "7",
         "Trafikkavvikling",
         "Årsaker i forhold til trafikkstyring:Signal stilles for sent, får ikke meldt tog til betjent stasjon, køkjøring, overbelastet banestrekning (Se Network Statement), Helhetsvurdering vedrørende rekkefølge/valg av kryssingssted, konstruksjons/systemfeil i ruteplan. Feil i hjelpesystem FJS (Automat/ATL/TLS).",
         "Trafikkavvikling",
         "-",
         "Trafikkavvikling",
         "TA",
         "5.0",
         "300.0",
         "P",
         "NSB Persontog",
         "NSB OST",
         "NSB Lokaltog"
        ],
        [
         "1",
         "2018-12-01T00:00:00.000Z",
         "2272",
         "NSB Øst",
         "L1",
         "Spikkestad - Lillestrøm",
         "Skøyen",
         "SKØ",
         "2018-12-01T22:32:00.000Z",
         "2018-12-01T22:37:56.000Z",
         "2018-12-01T22:31:00.000Z",
         "2018-12-01T22:36:04.000Z",
         "7",
         "Trafikkavvikling",
         "Årsaker i forhold til trafikkstyring:Signal stilles for sent, får ikke meldt tog til betjent stasjon, køkjøring, overbelastet banestrekning (Se Network Statement), Helhetsvurdering vedrørende rekkefølge/valg av kryssingssted, konstruksjons/systemfeil i ruteplan. Feil i hjelpesystem FJS (Automat/ATL/TLS).",
         "Trafikkavvikling",
         "-",
         "Trafikkavvikling",
         "TA",
         "5.0",
         "300.0",
         "P",
         "NSB Persontog",
         "NSB OST",
         "NSB Lokaltog"
        ],
        [
         "2",
         "2018-12-01T00:00:00.000Z",
         "2275",
         "NSB Øst",
         "L1",
         "Spikkestad - Lillestrøm",
         "Heggedal",
         "HEG",
         "2018-12-02T00:25:00.000Z",
         "2018-12-02T00:30:34.000Z",
         "2018-12-02T00:24:00.000Z",
         "2018-12-02T00:29:18.000Z",
         "7",
         "Trafikkavvikling",
         "Årsaker i forhold til trafikkstyring:Signal stilles for sent, får ikke meldt tog til betjent stasjon, køkjøring, overbelastet banestrekning (Se Network Statement), Helhetsvurdering vedrørende rekkefølge/valg av kryssingssted, konstruksjons/systemfeil i ruteplan. Feil i hjelpesystem FJS (Automat/ATL/TLS).",
         "Trafikkavvikling",
         "-",
         "Trafikkavvikling",
         "TA",
         "5.0",
         "300.0",
         "P",
         "NSB Persontog",
         "NSB OST",
         "NSB Lokaltog"
        ],
        [
         "3",
         "2018-12-01T00:00:00.000Z",
         "2280",
         "NSB Øst",
         "L1",
         "Spikkestad - Lillestrøm",
         "Asker",
         "ASR",
         "2018-12-02T00:04:00.000Z",
         "2018-12-02T00:23:15.000Z",
         "2018-12-02T00:03:00.000Z",
         "2018-12-02T00:21:40.000Z",
         "94",
         "Uønsket hendelse",
         "Tilløp til uhell, f. eks ulovlig ferdsel i spor. Tog venter på politi/ambulanse. Brann i tilknytning til linjen/stasjon. Utilsiktet passering av signal i stopp (Reell passering).",
         "Uønsket hendelse",
         "-",
         "Ekstern",
         "EXT",
         "18.0",
         "1080.0",
         "P",
         "NSB Persontog",
         "NSB OST",
         "NSB Lokaltog"
        ],
        [
         "4",
         "2018-12-02T00:00:00.000Z",
         "2223",
         "NSB Øst",
         "L1",
         "Spikkestad - Lillestrøm",
         "Nationaltheatret",
         "NTH",
         "2018-12-02T10:43:00.000Z",
         "2018-12-02T10:52:20.000Z",
         "2018-12-02T10:42:00.000Z",
         "2018-12-02T10:50:37.000Z",
         "2",
         "Sikrings/signalanlegg, fjernstyring",
         "Ved feil på: Linjeblokk, pærekontroll, stillverk/fjernstyringsanlegg, ATC-balise, vegsikringsanlegg, rasvarslingsanlegg. Sporveksel ikke i kontroll, Utilsiktet passering av signal i stopp grunnet teknisk feil (\\signalfall\\\"). Sporfeltbelegg, inkl. saltbelegg. Feil ved nødstrømsanlegg.\"",
         "Sikrings/signalanlegg, fjernstyring",
         "-",
         "Infrastrukturansvarlig",
         "INFRA",
         "8.0",
         "480.0",
         "P",
         "NSB Persontog",
         "NSB OST",
         "NSB Lokaltog"
        ]
       ],
       "shape": {
        "columns": 24,
        "rows": 5
       }
      },
      "text/html": [
       "<div>\n",
       "<style scoped>\n",
       "    .dataframe tbody tr th:only-of-type {\n",
       "        vertical-align: middle;\n",
       "    }\n",
       "\n",
       "    .dataframe tbody tr th {\n",
       "        vertical-align: top;\n",
       "    }\n",
       "\n",
       "    .dataframe thead th {\n",
       "        text-align: right;\n",
       "    }\n",
       "</style>\n",
       "<table border=\"1\" class=\"dataframe\">\n",
       "  <thead>\n",
       "    <tr style=\"text-align: right;\">\n",
       "      <th></th>\n",
       "      <th>NOMINAL_DATE</th>\n",
       "      <th>TRAIN_ID</th>\n",
       "      <th>CONTRACTOR_DESC</th>\n",
       "      <th>MAIN_LINE_ID</th>\n",
       "      <th>STREKNING</th>\n",
       "      <th>STATION_AFFECTED</th>\n",
       "      <th>STATION_ID</th>\n",
       "      <th>PLANNED_DEPARTURE_TIME</th>\n",
       "      <th>ACTUAL_DEPARTURE_TIME</th>\n",
       "      <th>PLANNED_ARRIVAL_TIME</th>\n",
       "      <th>...</th>\n",
       "      <th>LEVEL2_DESC</th>\n",
       "      <th>LEVEL3_DESC</th>\n",
       "      <th>RESPONSIBLE</th>\n",
       "      <th>RESPONSIBLE_CODE</th>\n",
       "      <th>REGISTERED_EXTRA_DELAY_SEC/60</th>\n",
       "      <th>DELAY_SEC</th>\n",
       "      <th>STOP_TYPE</th>\n",
       "      <th>OPERATOR_NAME</th>\n",
       "      <th>CONTRACTOR_ID</th>\n",
       "      <th>TRAIN_CATEGORY_NAME</th>\n",
       "    </tr>\n",
       "  </thead>\n",
       "  <tbody>\n",
       "    <tr>\n",
       "      <th>0</th>\n",
       "      <td>2018-12-01T00:00:00.000Z</td>\n",
       "      <td>2226</td>\n",
       "      <td>NSB Øst</td>\n",
       "      <td>L1</td>\n",
       "      <td>Spikkestad - Lillestrøm</td>\n",
       "      <td>Stabekk</td>\n",
       "      <td>STB</td>\n",
       "      <td>2018-12-01T10:56:00.000Z</td>\n",
       "      <td>2018-12-01T11:02:23.000Z</td>\n",
       "      <td>2018-12-01T10:55:00.000Z</td>\n",
       "      <td>...</td>\n",
       "      <td>Trafikkavvikling</td>\n",
       "      <td>-</td>\n",
       "      <td>Trafikkavvikling</td>\n",
       "      <td>TA</td>\n",
       "      <td>5.0</td>\n",
       "      <td>300.0</td>\n",
       "      <td>P</td>\n",
       "      <td>NSB Persontog</td>\n",
       "      <td>NSB OST</td>\n",
       "      <td>NSB Lokaltog</td>\n",
       "    </tr>\n",
       "    <tr>\n",
       "      <th>1</th>\n",
       "      <td>2018-12-01T00:00:00.000Z</td>\n",
       "      <td>2272</td>\n",
       "      <td>NSB Øst</td>\n",
       "      <td>L1</td>\n",
       "      <td>Spikkestad - Lillestrøm</td>\n",
       "      <td>Skøyen</td>\n",
       "      <td>SKØ</td>\n",
       "      <td>2018-12-01T22:32:00.000Z</td>\n",
       "      <td>2018-12-01T22:37:56.000Z</td>\n",
       "      <td>2018-12-01T22:31:00.000Z</td>\n",
       "      <td>...</td>\n",
       "      <td>Trafikkavvikling</td>\n",
       "      <td>-</td>\n",
       "      <td>Trafikkavvikling</td>\n",
       "      <td>TA</td>\n",
       "      <td>5.0</td>\n",
       "      <td>300.0</td>\n",
       "      <td>P</td>\n",
       "      <td>NSB Persontog</td>\n",
       "      <td>NSB OST</td>\n",
       "      <td>NSB Lokaltog</td>\n",
       "    </tr>\n",
       "    <tr>\n",
       "      <th>2</th>\n",
       "      <td>2018-12-01T00:00:00.000Z</td>\n",
       "      <td>2275</td>\n",
       "      <td>NSB Øst</td>\n",
       "      <td>L1</td>\n",
       "      <td>Spikkestad - Lillestrøm</td>\n",
       "      <td>Heggedal</td>\n",
       "      <td>HEG</td>\n",
       "      <td>2018-12-02T00:25:00.000Z</td>\n",
       "      <td>2018-12-02T00:30:34.000Z</td>\n",
       "      <td>2018-12-02T00:24:00.000Z</td>\n",
       "      <td>...</td>\n",
       "      <td>Trafikkavvikling</td>\n",
       "      <td>-</td>\n",
       "      <td>Trafikkavvikling</td>\n",
       "      <td>TA</td>\n",
       "      <td>5.0</td>\n",
       "      <td>300.0</td>\n",
       "      <td>P</td>\n",
       "      <td>NSB Persontog</td>\n",
       "      <td>NSB OST</td>\n",
       "      <td>NSB Lokaltog</td>\n",
       "    </tr>\n",
       "    <tr>\n",
       "      <th>3</th>\n",
       "      <td>2018-12-01T00:00:00.000Z</td>\n",
       "      <td>2280</td>\n",
       "      <td>NSB Øst</td>\n",
       "      <td>L1</td>\n",
       "      <td>Spikkestad - Lillestrøm</td>\n",
       "      <td>Asker</td>\n",
       "      <td>ASR</td>\n",
       "      <td>2018-12-02T00:04:00.000Z</td>\n",
       "      <td>2018-12-02T00:23:15.000Z</td>\n",
       "      <td>2018-12-02T00:03:00.000Z</td>\n",
       "      <td>...</td>\n",
       "      <td>Uønsket hendelse</td>\n",
       "      <td>-</td>\n",
       "      <td>Ekstern</td>\n",
       "      <td>EXT</td>\n",
       "      <td>18.0</td>\n",
       "      <td>1080.0</td>\n",
       "      <td>P</td>\n",
       "      <td>NSB Persontog</td>\n",
       "      <td>NSB OST</td>\n",
       "      <td>NSB Lokaltog</td>\n",
       "    </tr>\n",
       "    <tr>\n",
       "      <th>4</th>\n",
       "      <td>2018-12-02T00:00:00.000Z</td>\n",
       "      <td>2223</td>\n",
       "      <td>NSB Øst</td>\n",
       "      <td>L1</td>\n",
       "      <td>Spikkestad - Lillestrøm</td>\n",
       "      <td>Nationaltheatret</td>\n",
       "      <td>NTH</td>\n",
       "      <td>2018-12-02T10:43:00.000Z</td>\n",
       "      <td>2018-12-02T10:52:20.000Z</td>\n",
       "      <td>2018-12-02T10:42:00.000Z</td>\n",
       "      <td>...</td>\n",
       "      <td>Sikrings/signalanlegg, fjernstyring</td>\n",
       "      <td>-</td>\n",
       "      <td>Infrastrukturansvarlig</td>\n",
       "      <td>INFRA</td>\n",
       "      <td>8.0</td>\n",
       "      <td>480.0</td>\n",
       "      <td>P</td>\n",
       "      <td>NSB Persontog</td>\n",
       "      <td>NSB OST</td>\n",
       "      <td>NSB Lokaltog</td>\n",
       "    </tr>\n",
       "  </tbody>\n",
       "</table>\n",
       "<p>5 rows × 24 columns</p>\n",
       "</div>"
      ],
      "text/plain": [
       "               NOMINAL_DATE TRAIN_ID CONTRACTOR_DESC MAIN_LINE_ID  \\\n",
       "0  2018-12-01T00:00:00.000Z     2226         NSB Øst           L1   \n",
       "1  2018-12-01T00:00:00.000Z     2272         NSB Øst           L1   \n",
       "2  2018-12-01T00:00:00.000Z     2275         NSB Øst           L1   \n",
       "3  2018-12-01T00:00:00.000Z     2280         NSB Øst           L1   \n",
       "4  2018-12-02T00:00:00.000Z     2223         NSB Øst           L1   \n",
       "\n",
       "                 STREKNING  STATION_AFFECTED STATION_ID  \\\n",
       "0  Spikkestad - Lillestrøm           Stabekk        STB   \n",
       "1  Spikkestad - Lillestrøm            Skøyen        SKØ   \n",
       "2  Spikkestad - Lillestrøm          Heggedal        HEG   \n",
       "3  Spikkestad - Lillestrøm             Asker        ASR   \n",
       "4  Spikkestad - Lillestrøm  Nationaltheatret        NTH   \n",
       "\n",
       "     PLANNED_DEPARTURE_TIME     ACTUAL_DEPARTURE_TIME  \\\n",
       "0  2018-12-01T10:56:00.000Z  2018-12-01T11:02:23.000Z   \n",
       "1  2018-12-01T22:32:00.000Z  2018-12-01T22:37:56.000Z   \n",
       "2  2018-12-02T00:25:00.000Z  2018-12-02T00:30:34.000Z   \n",
       "3  2018-12-02T00:04:00.000Z  2018-12-02T00:23:15.000Z   \n",
       "4  2018-12-02T10:43:00.000Z  2018-12-02T10:52:20.000Z   \n",
       "\n",
       "       PLANNED_ARRIVAL_TIME  ...                          LEVEL2_DESC  \\\n",
       "0  2018-12-01T10:55:00.000Z  ...                     Trafikkavvikling   \n",
       "1  2018-12-01T22:31:00.000Z  ...                     Trafikkavvikling   \n",
       "2  2018-12-02T00:24:00.000Z  ...                     Trafikkavvikling   \n",
       "3  2018-12-02T00:03:00.000Z  ...                     Uønsket hendelse   \n",
       "4  2018-12-02T10:42:00.000Z  ...  Sikrings/signalanlegg, fjernstyring   \n",
       "\n",
       "   LEVEL3_DESC             RESPONSIBLE RESPONSIBLE_CODE  \\\n",
       "0            -        Trafikkavvikling               TA   \n",
       "1            -        Trafikkavvikling               TA   \n",
       "2            -        Trafikkavvikling               TA   \n",
       "3            -                 Ekstern              EXT   \n",
       "4            -  Infrastrukturansvarlig            INFRA   \n",
       "\n",
       "  REGISTERED_EXTRA_DELAY_SEC/60 DELAY_SEC STOP_TYPE  OPERATOR_NAME  \\\n",
       "0                           5.0     300.0         P  NSB Persontog   \n",
       "1                           5.0     300.0         P  NSB Persontog   \n",
       "2                           5.0     300.0         P  NSB Persontog   \n",
       "3                          18.0    1080.0         P  NSB Persontog   \n",
       "4                           8.0     480.0         P  NSB Persontog   \n",
       "\n",
       "   CONTRACTOR_ID  TRAIN_CATEGORY_NAME  \n",
       "0        NSB OST         NSB Lokaltog  \n",
       "1        NSB OST         NSB Lokaltog  \n",
       "2        NSB OST         NSB Lokaltog  \n",
       "3        NSB OST         NSB Lokaltog  \n",
       "4        NSB OST         NSB Lokaltog  \n",
       "\n",
       "[5 rows x 24 columns]"
      ]
     },
     "execution_count": 5,
     "metadata": {},
     "output_type": "execute_result"
    }
   ],
   "source": [
    "import pandas as pd\n",
    "import matplotlib.pyplot as plt\n",
    "import seaborn as sns\n",
    "\n",
    "# Last inn datasettet\n",
    "df = pd.read_csv('rask_testdata.csv', sep=';') # Endre filnavn og delimiter ved behov\n",
    "\n",
    "# Se på de første radene\n",
    "df.head()"
   ]
  },
  {
   "cell_type": "markdown",
   "id": "ae8ecc77",
   "metadata": {},
   "source": [
    "## 2. 🧹 Cleaning (Datavask)\n",
    "Før du kan trene en modell, må dataene være rene og konsistente. Her håndterer du manglende verdier, konverterer datatyper og fjerner irrelevante eller dupliserte kolonner.\n",
    "\n",
    "**Eksempelsteg**\n",
    "\n",
    "* Identifiser og håndter manglende verdier, enten ved å fylle inn med passende verdier (f.eks. median, modus) eller ved å fjerne rader/kolonner med for mange mangler.\n",
    "\n",
    "* Konverter kolonner til riktige datatyper (f.eks. dato/tid, kategoriske variabler)\n",
    "\n",
    "* Fjern eller transformer irrelevante kolonner.\n",
    "\n",
    "* Utfør eventuell feature engineering, for eksempel å lage nye variabler basert på eksisterende data som kan forbedre modellens ytelse\n"
   ]
  },
  {
   "cell_type": "code",
   "execution_count": 6,
   "id": "c77b655a",
   "metadata": {},
   "outputs": [
    {
     "data": {
      "application/vnd.microsoft.datawrangler.viewer.v0+json": {
       "columns": [
        {
         "name": "index",
         "rawType": "object",
         "type": "string"
        },
        {
         "name": "0",
         "rawType": "int64",
         "type": "integer"
        }
       ],
       "ref": "739f3b7e-d236-4118-b55c-9fd818a1b169",
       "rows": [
        [
         "NOMINAL_DATE",
         "0"
        ],
        [
         "TRAIN_ID",
         "0"
        ],
        [
         "CONTRACTOR_DESC",
         "0"
        ],
        [
         "MAIN_LINE_ID",
         "0"
        ],
        [
         "STREKNING",
         "0"
        ],
        [
         "STATION_AFFECTED",
         "0"
        ],
        [
         "STATION_ID",
         "0"
        ],
        [
         "PLANNED_DEPARTURE_TIME",
         "5347"
        ],
        [
         "ACTUAL_DEPARTURE_TIME",
         "4337"
        ],
        [
         "PLANNED_ARRIVAL_TIME",
         "12851"
        ],
        [
         "ACTUAL_ARRIVAL_TIME",
         "4449"
        ],
        [
         "DEVIATION_REASON_CODE",
         "0"
        ],
        [
         "CODE_DESCRIPTION",
         "0"
        ],
        [
         "FURTHER_CODE_DESCRIPTION",
         "0"
        ],
        [
         "LEVEL2_DESC",
         "0"
        ],
        [
         "LEVEL3_DESC",
         "0"
        ],
        [
         "RESPONSIBLE",
         "0"
        ],
        [
         "RESPONSIBLE_CODE",
         "0"
        ],
        [
         "REGISTERED_EXTRA_DELAY_SEC/60",
         "0"
        ],
        [
         "DELAY_SEC",
         "1"
        ],
        [
         "STOP_TYPE",
         "2841"
        ],
        [
         "OPERATOR_NAME",
         "0"
        ],
        [
         "CONTRACTOR_ID",
         "0"
        ],
        [
         "TRAIN_CATEGORY_NAME",
         "0"
        ]
       ],
       "shape": {
        "columns": 1,
        "rows": 24
       }
      },
      "text/plain": [
       "NOMINAL_DATE                         0\n",
       "TRAIN_ID                             0\n",
       "CONTRACTOR_DESC                      0\n",
       "MAIN_LINE_ID                         0\n",
       "STREKNING                            0\n",
       "STATION_AFFECTED                     0\n",
       "STATION_ID                           0\n",
       "PLANNED_DEPARTURE_TIME            5347\n",
       "ACTUAL_DEPARTURE_TIME             4337\n",
       "PLANNED_ARRIVAL_TIME             12851\n",
       "ACTUAL_ARRIVAL_TIME               4449\n",
       "DEVIATION_REASON_CODE                0\n",
       "CODE_DESCRIPTION                     0\n",
       "FURTHER_CODE_DESCRIPTION             0\n",
       "LEVEL2_DESC                          0\n",
       "LEVEL3_DESC                          0\n",
       "RESPONSIBLE                          0\n",
       "RESPONSIBLE_CODE                     0\n",
       "REGISTERED_EXTRA_DELAY_SEC/60        0\n",
       "DELAY_SEC                            1\n",
       "STOP_TYPE                         2841\n",
       "OPERATOR_NAME                        0\n",
       "CONTRACTOR_ID                        0\n",
       "TRAIN_CATEGORY_NAME                  0\n",
       "dtype: int64"
      ]
     },
     "execution_count": 6,
     "metadata": {},
     "output_type": "execute_result"
    }
   ],
   "source": [
    "# Sjekk for manglende verdier\n",
    "df.isnull().sum()\n",
    "\n",
    "# Fyll inn eller fjern manglende verdier\n",
    "\n",
    "# Konverter kolonner hvis nødvendig\n",
    "# df['tidspunkt'] = pd.to_datetime(df['tidspunkt'])"
   ]
  },
  {
   "cell_type": "markdown",
   "id": "adc65f85",
   "metadata": {},
   "source": [
    "## 3. 🧠 Modelloppsett\n",
    "I denne fasen velges hvilke variabler (features) som skal brukes for å predikere målet (target), og det settes opp en maskinlæringsmodell. Datasettet deles i trenings- og testsett for å kunne evaluere modellens generaliseringsevne. Husk at for Kaggle-konkurransen skal du kun bruke treningsdata til å trene modellen, og testdata til å generere prediksjoner for innsending.\n",
    "\n",
    "**Eksempelsteg:**\n",
    "* Velg relevante features og definer target-variabelen.\n",
    "\n",
    "* Del datasettet i trenings- og testsett ved hjelp av for eksempel `train_test_split` for å sikre uavhengig evaluering.\n",
    "\n",
    "* Velg og initialiser en passende modell (f.eks. Linear Regression, Random Forest, XGBoost).\n",
    "\n",
    "* Tren modellen på treningsdataene.\n",
    "\n",
    "Under har vi brukt Linear regression som eksempel."
   ]
  },
  {
   "cell_type": "code",
   "execution_count": null,
   "id": "7b3dc7f9",
   "metadata": {},
   "outputs": [],
   "source": [
    "from sklearn.model_selection import train_test_split\n",
    "from sklearn.linear_model import LinearRegression\n",
    "\n",
    "# Definer features og target\n",
    "features = ['REGISTERED_EXTRA_DELAY_SEC/60', 'departure_hour', 'isHoliday']  # Eksempel\n",
    "target = 'DELAY_SEC'\n",
    "\n",
    "X = df[features]\n",
    "y = df[target]\n",
    "\n",
    "# Del opp i trenings- og testdata\n",
    "X_train, X_test, y_train, y_test = train_test_split(X, y, test_size=0.2, random_state=42)\n",
    "\n",
    "# Tren modellen\n",
    "model = LinearRegression()\n",
    "model.fit(X_train, y_train)"
   ]
  },
  {
   "cell_type": "markdown",
   "id": "39604fe8",
   "metadata": {},
   "source": [
    "## 4. 🔮 Predikering\n",
    "\n",
    "Etter at modellen er trent, brukes den til å lage prediksjoner på testsettet. Dette gir et inntrykk av hvordan modellen presterer på nye, usette data. For Kaggle-konkurransen skal du generere prediksjoner på testsettet og lagre disse i et format som kan lastes opp til konkurranseplattformen (CSV-fil med ID og predikert verdi).\n",
    "\n",
    "**Eksempelsteg:**\n",
    "* Bruk den trente modellen til å predikere målverdier for testsettet (`model.predict`).\n",
    "\n",
    "* Sammenlign noen av de predikerte verdiene med de faktiske for å få en intuitiv forståelse av modellens ytelse.\n",
    "\n",
    "* Forbered en innsending til Kaggle ved å lagre prediksjonene i riktig format (f.eks. `submission.csv`)."
   ]
  },
  {
   "cell_type": "code",
   "execution_count": null,
   "id": "83533799",
   "metadata": {},
   "outputs": [],
   "source": [
    "# Generer prediksjoner\n",
    "y_pred = model.predict(X_test)\n",
    "\n",
    "# Vis noen prediksjoner\n",
    "y_pred[:10]"
   ]
  },
  {
   "cell_type": "markdown",
   "id": "3e701fe3",
   "metadata": {},
   "source": [
    "## 5. 📈 Evaluering\n",
    "Evaluer modellens ytelse ved hjelp av metrikker. Generer en y_pred med sample indeksering og predikert verdi som leveres i Kaggle.\n",
    "\n",
    "**Eksempelsteg:**\n",
    "\n",
    "* Beregn og rapporter MAE og RMSE for testsettet.\n",
    "\n",
    "* Diskuter resultatene og hva de betyr for modellens praktiske anvendelse.\n",
    "\n",
    "* Visualiser prediksjoner mot faktiske verdier for å identifisere systematiske feil eller forbedringspotensial.\n",
    "\n",
    "* Sammenlign flere modeller dersom det er aktuelt.\n",
    "\n",
    "* Husk å bruke samme evalueringsmetrikk som Kaggle-konkurransen for å kunne sammenligne resultatene direkte."
   ]
  },
  {
   "cell_type": "code",
   "execution_count": null,
   "id": "76adf954",
   "metadata": {},
   "outputs": [],
   "source": [
    "from sklearn.metrics import mean_absolute_error, mean_squared_error\n",
    "import numpy as np\n",
    "\n",
    "mae = mean_absolute_error(y_test, y_pred)\n",
    "rmse = np.sqrt(mean_squared_error(y_test, y_pred))\n",
    "\n",
    "print(f\"MAE: {mae:.2f}\")\n",
    "print(f\"RMSE: {rmse:.2f}\")"
   ]
  }
 ],
 "metadata": {
  "kernelspec": {
   "display_name": "myenv",
   "language": "python",
   "name": "python3"
  },
  "language_info": {
   "codemirror_mode": {
    "name": "ipython",
    "version": 3
   },
   "file_extension": ".py",
   "mimetype": "text/x-python",
   "name": "python",
   "nbconvert_exporter": "python",
   "pygments_lexer": "ipython3",
   "version": "3.10.18"
  }
 },
 "nbformat": 4,
 "nbformat_minor": 5
}
