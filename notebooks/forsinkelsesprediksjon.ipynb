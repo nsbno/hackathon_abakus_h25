{
 "cells": [
  {
   "cell_type": "markdown",
   "id": "50b7092d",
   "metadata": {},
   "source": [
    "# 🚆 Hackathon: Prediksjon av Togforsinkelser\n",
    "Velkommen til dette hackathon-caset! Målet er å bygge en modell som kan predikere forsinkelser i togtrafikken. Vi gir deg et datasett og forslag til steg for å komme i gang. "
   ]
  },
  {
   "cell_type": "markdown",
   "id": "a44e1822",
   "metadata": {},
   "source": [
    "## 1. 📊 EDA (Utforskende Dataanalyse)\n",
    "I denne seksjonen skal du bli kjent med datasettet. Målet er å forstå hvilke variabler som finnes, hvordan dataene er fordelt, og om det finnes åpenbare feil eller mangler.\n",
    "\n",
    "**Eksempelsteg:**\n",
    "* Skriv ut de første radene i datasettet (df.head())\n",
    "\n",
    "* Undersøk datatyper og kolonnenavn (df.info())\n",
    "\n",
    "* Sjekk for manglende verdier og outliers\n",
    "\n",
    "* Visualiser fordelingen av viktige variabler (f.eks. histogrammer, boksplott)\n",
    "\n",
    "* Se på sammenhenger mellom variabler (f.eks. korrelasjonsmatrise)\n"
   ]
  },
  {
   "cell_type": "code",
   "execution_count": null,
   "id": "e11e78f1",
   "metadata": {},
   "outputs": [],
   "source": [
    "import pandas as pd\n",
    "import matplotlib.pyplot as plt\n",
    "import seaborn as sns\n",
    "\n",
    "# Last inn datasettet\n",
    "df = pd.read_csv('../data/data_train.csv', sep=\";\") # Endre filsti og delimiter ved behov\n",
    "\n",
    "# Se på de første radene\n",
    "df.head()"
   ]
  },
  {
   "cell_type": "markdown",
   "id": "ae8ecc77",
   "metadata": {},
   "source": [
    "## 2. 🧹 Preprosesering\n",
    "Før du kan trene en modell, må dataene være rene og konsistente. Her håndterer du manglende verdier, konverterer datatyper og fjerner irrelevante eller dupliserte kolonner. Her utføres nødvendige steg oppdaget i datainspiseringen i forrige steg.\n",
    "\n",
    "**Eksempelsteg**\n",
    "\n",
    "* Identifiser og håndter manglende verdier, enten ved å fylle inn med passende verdier (f.eks. median, modus) eller ved å fjerne rader/kolonner med for mange mangler.\n",
    "\n",
    "* Fjerne outliers \n",
    "\n",
    "* Konverter kolonner til riktige datatyper (f.eks. dato/tid, kategoriske variabler (ved f.eks. one-hot encoding))\n",
    "\n",
    "* Fjern eller transformer irrelevante kolonner.  Datasettet inneholder mange kolonner som kanskje ikke er så relevante for forsinkelsen. Behold kun de som tilfører modellen informasjon.\n",
    "\n",
    "* Utfør eventuell feature engineering, for eksempel å lage nye variabler basert på eksisterende data (se under for utregnign av strekning)\n",
    "\n",
    "* Utfør eventuell normalisering av verdier \n"
   ]
  },
  {
   "cell_type": "markdown",
   "id": "028971dd",
   "metadata": {},
   "source": [
    "#### Domenekunnskap\n",
    "**Utregning av togstrekning/retning (kan brukes som feature)**\n",
    "\n",
    "Datasettet inneholder ingen informasjon om hvilken retning toget kjører i. Det finnes også forskjellige strekninger på L1 linjen. Dette kan regnes ut ved bruk av tognummer på måten beskrevet under basert på `TRAIN_ID`:\n",
    "\n",
    "| Betingelse                                                                 | Retning                  |\n",
    "|----------------------------------------------------------------------------|--------------------------|\n",
    "| 2100–2199 og oddetall                                                      | Lillestrøm–Asker         |\n",
    "| 2100–2199 og partall                                                       | Asker–Lillestrøm         |\n",
    "| 2204                                                                       | Asker–Lillestrøm         |\n",
    "| 2200–2299 og oddetall (unntatt 2281)                                       | Lillestrøm–Spikkestad    |\n",
    "| 2200–2299 og partall (unntatt 2204)                                        | Spikkestad–Lillestrøm    |\n",
    "| 2281                                                                     | Nattog              |\n",
    "\n",
    "**Adgangstider**\n",
    "\n",
    "Merk at start-stasjoner mangler tidsstempler for `PLANNED_ARRIVAL_TIME` og endestasjon mangler tidsstempel for `PLANNED_ARRIVAL_TIME`.\n",
    "\n",
    "**`DELAY_SEC`**\n",
    "\n",
    "En forsinkelse regnes kun som en forsinkelse dersom den er større eller lik 240 sekunder (4 minutter) og rundes alltid ned til hele minutt målt i sekunder. Derfor vil verdiene i datasettet alltid være multipler av 60, med nedre grense på 240. "
   ]
  },
  {
   "cell_type": "code",
   "execution_count": null,
   "id": "c77b655a",
   "metadata": {},
   "outputs": [],
   "source": [
    "# Sjekk for manglende verdier\n",
    "df.isnull().sum()\n",
    "\n",
    "# Fyll inn eller fjern manglende verdier\n",
    "df = df.dropna()  # Eksempel: fjerner rader med manglende verdier\n",
    "\n",
    "# Konverter kolonner hvis nødvendig\n",
    "\n",
    "\n",
    "# df['tidspunkt'] = pd.to_datetime(df['tidspunkt'])\n",
    "\n",
    "# ONE-HOT ENCODING\n",
    "df = pd.get_dummies(df, columns=['RESPONSIBLE_CODE'], drop_first=True)"
   ]
  },
  {
   "cell_type": "markdown",
   "id": "adc65f85",
   "metadata": {},
   "source": [
    "## 3. 🧠 Modelloppsett\n",
    "I denne fasen velges hvilke variabler (features) som skal brukes for å predikere målet (target), og det settes opp en maskinlæringsmodell. Datasettet deles i trenings- og testsett for å kunne evaluere modellens generaliseringsevne. Husk at for Kaggle-konkurransen skal du kun bruke treningsdata til å trene modellen, og testdata til å generere prediksjoner for innsending.\n",
    "\n",
    "**Eksempelsteg:**\n",
    "* Velg relevante features og definer target-variabelen.\n",
    "\n",
    "* Del datasettet i trenings- og testsett ved hjelp av for eksempel `train_test_split` for å sikre uavhengig evaluering.\n",
    "\n",
    "* Velg og initialiser en passende modell (f.eks. Linear Regression, Random Forest, XGBoost).\n",
    "\n",
    "* Bestem hyperparametere for valgt modell\n",
    "\n",
    "* Tren modellen på treningsdataene ved å kalle på en `.fit()`- eller `.train()`-metode\n",
    "\n",
    "Under har vi brukt Linear regression som eksempel."
   ]
  },
  {
   "cell_type": "code",
   "execution_count": null,
   "id": "7b3dc7f9",
   "metadata": {},
   "outputs": [],
   "source": [
    "from sklearn.model_selection import train_test_split\n",
    "from sklearn.linear_model import LinearRegression\n",
    "\n",
    "# Definer features og target\n",
    "features = ['REGISTERED_EXTRA_DELAY_SEC/60', 'TRAIN_ID', 'DEVIATION_REASON_CODE']  # Eksempel\n",
    "target = 'DELAY_SEC'\n",
    "\n",
    "X = df[features]\n",
    "y = df[target]\n",
    "\n",
    "# Del opp i trenings- og testdata\n",
    "X_train, X_test, y_train, y_test = train_test_split(X, y, test_size=0.2, random_state=42)\n",
    "\n",
    "# Bestem hyperparametere for valgt modell\n",
    "\n",
    "\n",
    "# Tren modellen\n",
    "model = LinearRegression()\n",
    "model.fit(X_train, y_train)"
   ]
  },
  {
   "cell_type": "markdown",
   "id": "39604fe8",
   "metadata": {},
   "source": [
    "## 4. 🔮 Predikering\n",
    "\n",
    "Etter at modellen er trent, brukes den til å lage prediksjoner på testdataen `X_test`. Dette gir et inntrykk av hvordan modellen presterer på ny, usett data. \n",
    "\n",
    "\n",
    "Bruk den trente modellen til å predikere målverdier for testsettet (`model.predict`).\n"
   ]
  },
  {
   "cell_type": "code",
   "execution_count": null,
   "id": "83533799",
   "metadata": {},
   "outputs": [],
   "source": [
    "# Generer prediksjoner\n",
    "y_pred = model.predict(X_test)\n",
    "\n",
    "# Vis noen prediksjoner\n",
    "y_pred[:10]"
   ]
  },
  {
   "cell_type": "markdown",
   "id": "3e701fe3",
   "metadata": {},
   "source": [
    "## 5. 📈 Evaluering\n",
    "Evaluer modellens ytelse ved hjelp av metrikker. Konkurransen vurderes ved bruk av RMSE. Det kan være lurt å bruke samme evalueringsmetrikk for å kunne sammenligne resultatene direkte.\n",
    "\n",
    "**Eksempelsteg:**\n",
    "\n",
    "* Beregn og rapporter MAE og RMSE for testsettet.\n",
    "\n",
    "* Diskuter resultatene og hva de betyr for modellens praktiske anvendelse.\n",
    "\n",
    "* Visualiser prediksjoner mot faktiske verdier for å identifisere systematiske feil eller forbedringspotensial.\n",
    "\n",
    "* Sammenlign flere modeller dersom det er aktuelt.\n",
    "\n"
   ]
  },
  {
   "cell_type": "code",
   "execution_count": null,
   "id": "76adf954",
   "metadata": {},
   "outputs": [],
   "source": [
    "from sklearn.metrics import mean_absolute_error, mean_squared_error\n",
    "import numpy as np\n",
    "\n",
    "mae = mean_absolute_error(y_test, y_pred)\n",
    "rmse = np.sqrt(mean_squared_error(y_test, y_pred))\n",
    "\n",
    "print(f\"MAE: {mae:.2f}\")\n",
    "print(f\"RMSE: {rmse:.2f}\")\n",
    "\n",
    "# Visualiser\n",
    "plt.figure(figsize=(10, 6))\n",
    "plt.plot(y_test.reset_index(drop=True), label='True Values')\n",
    "plt.plot(y_pred, label='Linear Regression', alpha=0.7)\n",
    "\n",
    "plt.legend()\n",
    "plt.title('Model Prediction vs True Values')\n",
    "plt.xlabel('Sample Index')\n",
    "plt.ylabel('Delay (seconds)')\n",
    "plt.show()"
   ]
  },
  {
   "cell_type": "markdown",
   "id": "a86aaa19",
   "metadata": {},
   "source": [
    "## 5. ✅ Submission\n",
    "Når dere har landet på en modell dere er fornøyd med lokalt, kan dere bruke denne til å predikere på dataen dere finner i data_test.csv.\n",
    "\n",
    "⚠️ **Viktig:** Denne dataen må også gjennom cleaning og prepping, men pass på å ikke filtrere bort noen rader dersom det inngår som en del av rensingen da dette vil medføre at evalueringen av løsningen deres ikke vil fungere.\n",
    "\n",
    "Prediksjonene skal lastes opp i kagglekonkurransen på formatet (ID, DELAY_SEC) hvor ID hentes fra testdatasettet. Se eksempelkode under:\n"
   ]
  },
  {
   "cell_type": "code",
   "execution_count": null,
   "id": "2f5b2fa4",
   "metadata": {},
   "outputs": [],
   "source": [
    "# Les inn testdatasett\n",
    "df_test = pd.read_csv('../data/data_test.csv', sep=\";\") # Endre filsti og delimiter ved behov\n",
    "# Utfør samme datapreparering som på treningsdataen for testdatasett\n",
    "\n",
    "# Bruk samme features som tidligere\n",
    "X_submission = df_test[features]\n",
    "\n",
    "# Prediker for testdatasettet\n",
    "pred_submission = model.predict(X_submission)\n",
    "\n",
    "# Bruk ID fra testdatasett\n",
    "submission = pd.DataFrame({\n",
    "    \"ID\": df_test['ID'],\n",
    "    \"DELAY_SEC\": pred_submission\n",
    "})\n",
    "# Lagre til CSV\n",
    "submission.to_csv(\"../submissions/linreg_predictions_testdata.csv\", index=False)\n"
   ]
  }
 ],
 "metadata": {
  "kernelspec": {
   "display_name": "env (3.13.2)",
   "language": "python",
   "name": "python3"
  },
  "language_info": {
   "codemirror_mode": {
    "name": "ipython",
    "version": 3
   },
   "file_extension": ".py",
   "mimetype": "text/x-python",
   "name": "python",
   "nbconvert_exporter": "python",
   "pygments_lexer": "ipython3",
   "version": "3.13.2"
  }
 },
 "nbformat": 4,
 "nbformat_minor": 5
}
